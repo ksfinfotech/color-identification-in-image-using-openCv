{
 "cells": [
  {
   "cell_type": "code",
   "execution_count": 3,
   "id": "computational-mason",
   "metadata": {},
   "outputs": [],
   "source": [
    "import cv2\n",
    "import numpy as np\n",
    "import pandas as pd\n",
    "import matplotlib\n",
    "import matplotlib.pyplot as plt"
   ]
  },
  {
   "cell_type": "code",
   "execution_count": 4,
   "id": "inner-edition",
   "metadata": {},
   "outputs": [],
   "source": [
    "img1_path = 'C:/Users/kashif/Desktop/task2/img 1.JPG'\n",
    "img2_path = 'C:/Users/kashif/Desktop/task2/img 2.JPG'\n",
    "csv_path = 'C:/Users/kashif/Desktop/task2/colours.csv'"
   ]
  },
  {
   "cell_type": "code",
   "execution_count": 5,
   "id": "ordered-egypt",
   "metadata": {},
   "outputs": [],
   "source": [
    "img2 = cv2.imread(img1_path)\n",
    "img1 = cv2.imread(img2_path)"
   ]
  },
  {
   "cell_type": "code",
   "execution_count": 6,
   "id": "great-dollar",
   "metadata": {},
   "outputs": [
    {
     "data": {
      "text/plain": [
       "<matplotlib.image.AxesImage at 0x1b60abfb520>"
      ]
     },
     "execution_count": 6,
     "metadata": {},
     "output_type": "execute_result"
    },
    {
     "data": {
      "image/png": "[encoded data removed]",
      "text/plain": [
       "<Figure size 1440x576 with 1 Axes>"
      ]
     },
     "metadata": {
      "needs_background": "light"
     },
     "output_type": "display_data"
    }
   ],
   "source": [
    "plt.figure(figsize=(20,8))\n",
    "plt.imshow(img1)"
   ]
  },
  {
   "cell_type": "code",
   "execution_count": 7,
   "id": "becoming-occasions",
   "metadata": {},
   "outputs": [],
   "source": [
    "grid_RGB = cv2.cvtColor(img1, cv2.COLOR_BGR2RGB)"
   ]
  },
  {
   "cell_type": "code",
   "execution_count": 8,
   "id": "nutritional-scene",
   "metadata": {},
   "outputs": [
    {
     "data": {
      "text/plain": [
       "<matplotlib.image.AxesImage at 0x1b60ac62fd0>"
      ]
     },
     "execution_count": 8,
     "metadata": {},
     "output_type": "execute_result"
    },
    {
     "data": {
      "image/png": "[encoded data removed]",
      "text/plain": [
       "<Figure size 1440x576 with 1 Axes>"
      ]
     },
     "metadata": {
      "needs_background": "light"
     },
     "output_type": "display_data"
    }
   ],
   "source": [
    "plt.figure(figsize=(20,8))\n",
    "plt.imshow(grid_RGB)"
   ]
  },
  {
   "cell_type": "code",
   "execution_count": 9,
   "id": "electric-federal",
   "metadata": {},
   "outputs": [],
   "source": [
    "index = ['colour', 'colour_name', 'hex', 'R', 'G', 'B']\n",
    "df = pd.read_csv(csv_path, names=index, header=None)"
   ]
  },
  {
   "cell_type": "code",
   "execution_count": 10,
   "id": "short-captain",
   "metadata": {},
   "outputs": [],
   "source": [
    "clicked = False\n",
    "r = g = b = xpos = ypos = 0"
   ]
  },
  {
   "cell_type": "code",
   "execution_count": 11,
   "id": "destroyed-metro",
   "metadata": {},
   "outputs": [],
   "source": [
    "def get_color_name (R,G,B):\n",
    "    minimum = 1000\n",
    "    for i in range (len(df)):\n",
    "        d = abs(R - int(df.loc[i,'R'])) + abs(G - int(df.loc[i,'G'])) + abs(B - int(df.loc[i,'B']))\n",
    "        if d <= minimum:\n",
    "            minimum = d\n",
    "            cname = df.loc[i,'colour_name']\n",
    "            \n",
    "    return cname"
   ]
  },
  {
   "cell_type": "code",
   "execution_count": 12,
   "id": "wooden-medication",
   "metadata": {},
   "outputs": [],
   "source": [
    "def draw_function(event, x, y, flags, params):\n",
    "    if event == cv2.EVENT_LBUTTONDBLCLK:\n",
    "        global b, g, r, xpos, ypos, clicked\n",
    "        clicked = True\n",
    "        xpos = x\n",
    "        ypos = y\n",
    "        b,g,r = img1[y,x]\n",
    "        b = int(b)\n",
    "        g = int(g)\n",
    "        r = int(r)"
   ]
  },
  {
   "cell_type": "code",
   "execution_count": 13,
   "id": "unusual-property",
   "metadata": {},
   "outputs": [],
   "source": [
    "cv2.namedWindow('Task 1')\n",
    "cv2.setMouseCallback('Task 1', draw_function)"
   ]
  },
  {
   "cell_type": "code",
   "execution_count": null,
   "id": "through-eligibility",
   "metadata": {},
   "outputs": [],
   "source": [
    "while True:\n",
    "    cv2.imshow('Task 1',img1)\n",
    "    if clicked:\n",
    "        cv2.rectangle(img1, (20,20), (600,60), (b,g,r), -1)\n",
    "        \n",
    "        text = get_color_name(r,g,b) + ' R  =' + str(r) + ' G = ' + str(g) + ' B = ' + str(b)\n",
    "        \n",
    "        cv2.putText(img1, text, (50,50), 2,0.8, (255,255,255),2,cv2.LINE_AA)\n",
    "        \n",
    "    if cv2.waitKey(20) & 0xFF == 27:\n",
    "            break\n",
    "            \n",
    "cv2.destroyAllWindows()"
   ]
  }
 ],
 "metadata": {
  "kernelspec": {
   "display_name": "Python 3",
   "language": "python",
   "name": "python3"
  },
  "language_info": {
   "codemirror_mode": {
    "name": "ipython",
    "version": 3
   },
   "file_extension": ".py",
   "mimetype": "text/x-python",
   "name": "python",
   "nbconvert_exporter": "python",
   "pygments_lexer": "ipython3",
   "version": "3.9.1"
  }
 },
 "nbformat": 4,
 "nbformat_minor": 5
}
